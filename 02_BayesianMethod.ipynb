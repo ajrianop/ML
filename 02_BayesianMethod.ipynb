{
  "nbformat": 4,
  "nbformat_minor": 0,
  "metadata": {
    "colab": {
      "provenance": [],
      "authorship_tag": "ABX9TyPaV4YZO89yGmvE+zCQmC0Q",
      "include_colab_link": true
    },
    "kernelspec": {
      "name": "python3",
      "display_name": "Python 3"
    },
    "language_info": {
      "name": "python"
    }
  },
  "cells": [
    {
      "cell_type": "markdown",
      "metadata": {
        "id": "view-in-github",
        "colab_type": "text"
      },
      "source": [
        "<a href=\"https://colab.research.google.com/github/ajrianop/ML/blob/main/02_BayesianMethod.ipynb\" target=\"_parent\"><img src=\"https://colab.research.google.com/assets/colab-badge.svg\" alt=\"Open In Colab\"/></a>"
      ]
    },
    {
      "cell_type": "code",
      "execution_count": null,
      "metadata": {
        "id": "TavEzm2GvK1A"
      },
      "outputs": [],
      "source": []
    },
    {
      "cell_type": "markdown",
      "source": [
        "# **Naive Bayes, Bayesian Method or Bayesian's Theorem**"
      ],
      "metadata": {
        "id": "q2k0xmyXvPJ6"
      }
    },
    {
      "cell_type": "markdown",
      "source": [
        "Bayes's Theorem describe the following $P(A\\mid B) = \\dfrac{P(A)P(B\\mid A)}{P(B)}$\n"
      ],
      "metadata": {
        "id": "3l-c1JgmwVcB"
      }
    },
    {
      "cell_type": "markdown",
      "source": [
        "We can use Naive Bayes to study different problems, as for determine if some email is spam given some word, so we can compute a large database with the information of email with spam and not spam, and do the complete computing.\n",
        "$P(spam\\mid free)=\\dfrac{P(spam)P(free\\mid spam)}{P(free)}.$"
      ],
      "metadata": {
        "id": "WhO995-e3Wt6"
      }
    },
    {
      "cell_type": "markdown",
      "source": [
        "In order to compute that, we can use scikit-learn to make it very simple with the function multinomialNB which do the hard work with the process of Naive Bayes."
      ],
      "metadata": {
        "id": "6Sj5KvRC4ffy"
      }
    },
    {
      "cell_type": "markdown",
      "source": [
        "## **Example**"
      ],
      "metadata": {
        "id": "MRIMJ3tY43va"
      }
    },
    {
      "cell_type": "markdown",
      "source": [
        "Before to start, it is necessary to call the information from drive. The following documents will be taken from the instructor Frank Kane"
      ],
      "metadata": {
        "id": "LS7XtCxmBerU"
      }
    },
    {
      "cell_type": "code",
      "source": [
        "from google.colab import drive\n",
        "drive.mount(\"/content/gdrive\")"
      ],
      "metadata": {
        "colab": {
          "base_uri": "https://localhost:8080/"
        },
        "id": "vwNNOSLyBcIh",
        "outputId": "90f79c4e-97d1-4f54-cc52-8785db9d83d3"
      },
      "execution_count": 1,
      "outputs": [
        {
          "output_type": "stream",
          "name": "stdout",
          "text": [
            "Mounted at /content/gdrive\n"
          ]
        }
      ]
    },
    {
      "cell_type": "markdown",
      "source": [
        "Let us consider two directories one with emails classified as spam and the other as ham (it is equivalent as not spam). Thus, we can train our model with this information."
      ],
      "metadata": {
        "id": "RL8cmPoR5WaZ"
      }
    },
    {
      "cell_type": "code",
      "source": [
        "import os\n",
        "import io\n",
        "import numpy\n",
        "import pandas as pd\n",
        "from pandas import DataFrame\n",
        "from sklearn.feature_extraction.text import CountVectorizer\n",
        "from sklearn.naive_bayes import MultinomialNB\n",
        "\n",
        "def readFiles(path):\n",
        "    for root, dirnames, filenames in os.walk(path):\n",
        "        for filename in filenames:\n",
        "            path = os.path.join(root, filename)\n",
        "\n",
        "            inBody = False\n",
        "            lines = []\n",
        "            f = io.open(path, 'r', encoding='latin1')\n",
        "            for line in f:\n",
        "                if inBody:\n",
        "                    lines.append(line)\n",
        "                elif line == '\\n':\n",
        "                    inBody = True\n",
        "            f.close()\n",
        "            message = '\\n'.join(lines)\n",
        "            yield path, message\n",
        "\n",
        "\n",
        "def dataFrameFromDirectory(path, classification):\n",
        "    rows = []\n",
        "    index = []\n",
        "    for filename, message in readFiles(path):\n",
        "        rows.append({'message': message, 'class': classification})\n",
        "        index.append(filename)\n",
        "\n",
        "    return DataFrame(rows, index=index)\n",
        "\n",
        "data = DataFrame({'message': [], 'class': []})\n",
        "\n",
        "data = pd.concat([data, dataFrameFromDirectory(\"/content/gdrive/MyDrive/Programming Topics/ML Python/emailsNB/spam\", \"spam\")]);\n",
        "data = pd.concat([data, dataFrameFromDirectory(\"/content/gdrive/MyDrive/Programming Topics/ML Python/emailsNB/ham\", \"ham\")])\n",
        "\n",
        "#For Pandas 1.3:\n",
        "#data = data.append(dataFrameFromDirectory('emails/spam', 'spam'))\n",
        "#data = data.append(dataFrameFromDirectory('emails/ham', 'ham'))\n"
      ],
      "metadata": {
        "id": "hZoA6nQ--E0_"
      },
      "execution_count": 2,
      "outputs": []
    },
    {
      "cell_type": "code",
      "source": [
        "data.reset_index()[['message','class']]"
      ],
      "metadata": {
        "colab": {
          "base_uri": "https://localhost:8080/",
          "height": 424
        },
        "id": "59FLaOTE-mcr",
        "outputId": "5c210c0d-5442-4304-e6bf-633556994fc5"
      },
      "execution_count": 3,
      "outputs": [
        {
          "output_type": "execute_result",
          "data": {
            "text/plain": [
              "                                                message class\n",
              "0     <html>\\n\\n\\n\\n<head>\\n\\n<meta http-equiv=3D\"Co...  spam\n",
              "1     IS YOUR BUSINESS MAKING MONEY!\\n\\nSet Up To Ac...  spam\n",
              "2     When America's top companies compete for your ...  spam\n",
              "3     Lowest rates available for term life insurance...  spam\n",
              "4     <!-- saved from url=3D(0022)http://internet.e-...  spam\n",
              "...                                                 ...   ...\n",
              "2995  Jim Whitehead wrote:\\n\\n\\n\\n>Great, this is ha...   ham\n",
              "2996  On Fri, 6 Sep 2002, Russell Turpin wrote:\\n\\n\\...   ham\n",
              "2997  This article from NYTimes.com \\n\\nhas been sen...   ham\n",
              "2998  On Thu, 5 Sep 2002 bitbitch@magnesium.net wrot...   ham\n",
              "2999  Definitional nit to pick:\\n\\n\\n\\nRobert Harley...   ham\n",
              "\n",
              "[3000 rows x 2 columns]"
            ],
            "text/html": [
              "\n",
              "  <div id=\"df-7d28aba1-8653-48eb-bf45-0d1dc0dccb85\">\n",
              "    <div class=\"colab-df-container\">\n",
              "      <div>\n",
              "<style scoped>\n",
              "    .dataframe tbody tr th:only-of-type {\n",
              "        vertical-align: middle;\n",
              "    }\n",
              "\n",
              "    .dataframe tbody tr th {\n",
              "        vertical-align: top;\n",
              "    }\n",
              "\n",
              "    .dataframe thead th {\n",
              "        text-align: right;\n",
              "    }\n",
              "</style>\n",
              "<table border=\"1\" class=\"dataframe\">\n",
              "  <thead>\n",
              "    <tr style=\"text-align: right;\">\n",
              "      <th></th>\n",
              "      <th>message</th>\n",
              "      <th>class</th>\n",
              "    </tr>\n",
              "  </thead>\n",
              "  <tbody>\n",
              "    <tr>\n",
              "      <th>0</th>\n",
              "      <td>&lt;html&gt;\\n\\n\\n\\n&lt;head&gt;\\n\\n&lt;meta http-equiv=3D\"Co...</td>\n",
              "      <td>spam</td>\n",
              "    </tr>\n",
              "    <tr>\n",
              "      <th>1</th>\n",
              "      <td>IS YOUR BUSINESS MAKING MONEY!\\n\\nSet Up To Ac...</td>\n",
              "      <td>spam</td>\n",
              "    </tr>\n",
              "    <tr>\n",
              "      <th>2</th>\n",
              "      <td>When America's top companies compete for your ...</td>\n",
              "      <td>spam</td>\n",
              "    </tr>\n",
              "    <tr>\n",
              "      <th>3</th>\n",
              "      <td>Lowest rates available for term life insurance...</td>\n",
              "      <td>spam</td>\n",
              "    </tr>\n",
              "    <tr>\n",
              "      <th>4</th>\n",
              "      <td>&lt;!-- saved from url=3D(0022)http://internet.e-...</td>\n",
              "      <td>spam</td>\n",
              "    </tr>\n",
              "    <tr>\n",
              "      <th>...</th>\n",
              "      <td>...</td>\n",
              "      <td>...</td>\n",
              "    </tr>\n",
              "    <tr>\n",
              "      <th>2995</th>\n",
              "      <td>Jim Whitehead wrote:\\n\\n\\n\\n&gt;Great, this is ha...</td>\n",
              "      <td>ham</td>\n",
              "    </tr>\n",
              "    <tr>\n",
              "      <th>2996</th>\n",
              "      <td>On Fri, 6 Sep 2002, Russell Turpin wrote:\\n\\n\\...</td>\n",
              "      <td>ham</td>\n",
              "    </tr>\n",
              "    <tr>\n",
              "      <th>2997</th>\n",
              "      <td>This article from NYTimes.com \\n\\nhas been sen...</td>\n",
              "      <td>ham</td>\n",
              "    </tr>\n",
              "    <tr>\n",
              "      <th>2998</th>\n",
              "      <td>On Thu, 5 Sep 2002 bitbitch@magnesium.net wrot...</td>\n",
              "      <td>ham</td>\n",
              "    </tr>\n",
              "    <tr>\n",
              "      <th>2999</th>\n",
              "      <td>Definitional nit to pick:\\n\\n\\n\\nRobert Harley...</td>\n",
              "      <td>ham</td>\n",
              "    </tr>\n",
              "  </tbody>\n",
              "</table>\n",
              "<p>3000 rows × 2 columns</p>\n",
              "</div>\n",
              "      <button class=\"colab-df-convert\" onclick=\"convertToInteractive('df-7d28aba1-8653-48eb-bf45-0d1dc0dccb85')\"\n",
              "              title=\"Convert this dataframe to an interactive table.\"\n",
              "              style=\"display:none;\">\n",
              "        \n",
              "  <svg xmlns=\"http://www.w3.org/2000/svg\" height=\"24px\"viewBox=\"0 0 24 24\"\n",
              "       width=\"24px\">\n",
              "    <path d=\"M0 0h24v24H0V0z\" fill=\"none\"/>\n",
              "    <path d=\"M18.56 5.44l.94 2.06.94-2.06 2.06-.94-2.06-.94-.94-2.06-.94 2.06-2.06.94zm-11 1L8.5 8.5l.94-2.06 2.06-.94-2.06-.94L8.5 2.5l-.94 2.06-2.06.94zm10 10l.94 2.06.94-2.06 2.06-.94-2.06-.94-.94-2.06-.94 2.06-2.06.94z\"/><path d=\"M17.41 7.96l-1.37-1.37c-.4-.4-.92-.59-1.43-.59-.52 0-1.04.2-1.43.59L10.3 9.45l-7.72 7.72c-.78.78-.78 2.05 0 2.83L4 21.41c.39.39.9.59 1.41.59.51 0 1.02-.2 1.41-.59l7.78-7.78 2.81-2.81c.8-.78.8-2.07 0-2.86zM5.41 20L4 18.59l7.72-7.72 1.47 1.35L5.41 20z\"/>\n",
              "  </svg>\n",
              "      </button>\n",
              "      \n",
              "  <style>\n",
              "    .colab-df-container {\n",
              "      display:flex;\n",
              "      flex-wrap:wrap;\n",
              "      gap: 12px;\n",
              "    }\n",
              "\n",
              "    .colab-df-convert {\n",
              "      background-color: #E8F0FE;\n",
              "      border: none;\n",
              "      border-radius: 50%;\n",
              "      cursor: pointer;\n",
              "      display: none;\n",
              "      fill: #1967D2;\n",
              "      height: 32px;\n",
              "      padding: 0 0 0 0;\n",
              "      width: 32px;\n",
              "    }\n",
              "\n",
              "    .colab-df-convert:hover {\n",
              "      background-color: #E2EBFA;\n",
              "      box-shadow: 0px 1px 2px rgba(60, 64, 67, 0.3), 0px 1px 3px 1px rgba(60, 64, 67, 0.15);\n",
              "      fill: #174EA6;\n",
              "    }\n",
              "\n",
              "    [theme=dark] .colab-df-convert {\n",
              "      background-color: #3B4455;\n",
              "      fill: #D2E3FC;\n",
              "    }\n",
              "\n",
              "    [theme=dark] .colab-df-convert:hover {\n",
              "      background-color: #434B5C;\n",
              "      box-shadow: 0px 1px 3px 1px rgba(0, 0, 0, 0.15);\n",
              "      filter: drop-shadow(0px 1px 2px rgba(0, 0, 0, 0.3));\n",
              "      fill: #FFFFFF;\n",
              "    }\n",
              "  </style>\n",
              "\n",
              "      <script>\n",
              "        const buttonEl =\n",
              "          document.querySelector('#df-7d28aba1-8653-48eb-bf45-0d1dc0dccb85 button.colab-df-convert');\n",
              "        buttonEl.style.display =\n",
              "          google.colab.kernel.accessAllowed ? 'block' : 'none';\n",
              "\n",
              "        async function convertToInteractive(key) {\n",
              "          const element = document.querySelector('#df-7d28aba1-8653-48eb-bf45-0d1dc0dccb85');\n",
              "          const dataTable =\n",
              "            await google.colab.kernel.invokeFunction('convertToInteractive',\n",
              "                                                     [key], {});\n",
              "          if (!dataTable) return;\n",
              "\n",
              "          const docLinkHtml = 'Like what you see? Visit the ' +\n",
              "            '<a target=\"_blank\" href=https://colab.research.google.com/notebooks/data_table.ipynb>data table notebook</a>'\n",
              "            + ' to learn more about interactive tables.';\n",
              "          element.innerHTML = '';\n",
              "          dataTable['output_type'] = 'display_data';\n",
              "          await google.colab.output.renderOutput(dataTable, element);\n",
              "          const docLink = document.createElement('div');\n",
              "          docLink.innerHTML = docLinkHtml;\n",
              "          element.appendChild(docLink);\n",
              "        }\n",
              "      </script>\n",
              "    </div>\n",
              "  </div>\n",
              "  "
            ]
          },
          "metadata": {},
          "execution_count": 3
        }
      ]
    },
    {
      "cell_type": "code",
      "source": [
        "'''\n",
        "The following method tokenize all the message and counts the amount of times that a word occurs in an email. \n",
        "'''\n",
        "vectorizer = CountVectorizer()\n",
        "counts = vectorizer.fit_transform(data['message'].values)\n",
        "\n",
        "# MultinomialNB perform Naive Bayes on the data given\n",
        "classifier = MultinomialNB()\n",
        "targets = data['class'].values\n",
        "# The method requires two inputs: counts = data we are training on , targets = the classification of the emails \n",
        "classifier.fit(counts, targets)"
      ],
      "metadata": {
        "colab": {
          "base_uri": "https://localhost:8080/"
        },
        "id": "NWL3QByF-w6b",
        "outputId": "649e1bcb-42f1-4408-ef28-637704601699"
      },
      "execution_count": 4,
      "outputs": [
        {
          "output_type": "execute_result",
          "data": {
            "text/plain": [
              "MultinomialNB()"
            ]
          },
          "metadata": {},
          "execution_count": 4
        }
      ]
    },
    {
      "cell_type": "code",
      "source": [
        "print(counts)"
      ],
      "metadata": {
        "colab": {
          "base_uri": "https://localhost:8080/"
        },
        "id": "A1JGvpYCDGqC",
        "outputId": "78082568-7a57-47c1-9c56-051a91753524"
      },
      "execution_count": 5,
      "outputs": [
        {
          "output_type": "stream",
          "name": "stdout",
          "text": [
            "  (0, 28844)\t3\n",
            "  (0, 27856)\t2\n",
            "  (0, 36946)\t4\n",
            "  (0, 28855)\t4\n",
            "  (0, 22714)\t2\n",
            "  (0, 3669)\t143\n",
            "  (0, 17466)\t6\n",
            "  (0, 34248)\t1\n",
            "  (0, 22319)\t1\n",
            "  (0, 55923)\t1\n",
            "  (0, 38606)\t2\n",
            "  (0, 26057)\t1\n",
            "  (0, 37135)\t1\n",
            "  (0, 25238)\t2\n",
            "  (0, 44192)\t1\n",
            "  (0, 21789)\t1\n",
            "  (0, 20408)\t1\n",
            "  (0, 54656)\t1\n",
            "  (0, 53112)\t2\n",
            "  (0, 15912)\t1\n",
            "  (0, 3865)\t1\n",
            "  (0, 1193)\t1\n",
            "  (0, 53574)\t2\n",
            "  (0, 39540)\t3\n",
            "  (0, 9442)\t1\n",
            "  :\t:\n",
            "  (2999, 49584)\t1\n",
            "  (2999, 42397)\t1\n",
            "  (2999, 59128)\t1\n",
            "  (2999, 40219)\t1\n",
            "  (2999, 53380)\t3\n",
            "  (2999, 36776)\t2\n",
            "  (2999, 20163)\t2\n",
            "  (2999, 17527)\t1\n",
            "  (2999, 44241)\t1\n",
            "  (2999, 26673)\t1\n",
            "  (2999, 27649)\t1\n",
            "  (2999, 28072)\t1\n",
            "  (2999, 44240)\t4\n",
            "  (2999, 39252)\t1\n",
            "  (2999, 39516)\t1\n",
            "  (2999, 30694)\t1\n",
            "  (2999, 11952)\t1\n",
            "  (2999, 30540)\t1\n",
            "  (2999, 49440)\t1\n",
            "  (2999, 19791)\t1\n",
            "  (2999, 19162)\t1\n",
            "  (2999, 46461)\t1\n",
            "  (2999, 55958)\t1\n",
            "  (2999, 41700)\t1\n",
            "  (2999, 52738)\t1\n"
          ]
        }
      ]
    },
    {
      "cell_type": "code",
      "source": [
        "print(targets.size)"
      ],
      "metadata": {
        "colab": {
          "base_uri": "https://localhost:8080/"
        },
        "id": "0OuiTgJ1ED8d",
        "outputId": "8e0559c9-2183-4961-fe7d-5df7a0287d84"
      },
      "execution_count": 6,
      "outputs": [
        {
          "output_type": "stream",
          "name": "stdout",
          "text": [
            "3000\n"
          ]
        }
      ]
    },
    {
      "cell_type": "markdown",
      "source": [],
      "metadata": {
        "id": "GlQaAbLcEZoz"
      }
    },
    {
      "cell_type": "code",
      "source": [
        "examples = ['Free Viagra now!!!', \"Hi Bob, how about a game of golf tomorrow?\",\"\"]\n",
        "example_counts = vectorizer.transform(examples)\n",
        "predictions = classifier.predict(example_counts)\n",
        "predictions"
      ],
      "metadata": {
        "colab": {
          "base_uri": "https://localhost:8080/"
        },
        "id": "2rkzjqpKEaET",
        "outputId": "45912781-9d91-4749-e890-e55aee57bcde"
      },
      "execution_count": 7,
      "outputs": [
        {
          "output_type": "execute_result",
          "data": {
            "text/plain": [
              "array(['spam', 'ham', 'ham'], dtype='<U4')"
            ]
          },
          "metadata": {},
          "execution_count": 7
        }
      ]
    },
    {
      "cell_type": "markdown",
      "source": [
        "## **Using train/test set**"
      ],
      "metadata": {
        "id": "cVKPcFjhVYrk"
      }
    },
    {
      "cell_type": "markdown",
      "source": [
        "We are going to take a training set of $70\\%$ of spam emails and ham emails. The other $30\\%$ will be for the test set."
      ],
      "metadata": {
        "id": "SXCOnOokVirL"
      }
    },
    {
      "cell_type": "code",
      "source": [
        "spamEmails=data[data['class']=='spam']#.sample(frac=0.7,random_state=100)\n",
        "s=data[data['class']=='spam'].drop(spamEmails.index)\n",
        "s"
      ],
      "metadata": {
        "colab": {
          "base_uri": "https://localhost:8080/",
          "height": 49
        },
        "id": "jujG5M4_i_Hm",
        "outputId": "14f3c5f8-a68d-43ab-c42a-08a30a4b1c7d"
      },
      "execution_count": 20,
      "outputs": [
        {
          "output_type": "execute_result",
          "data": {
            "text/plain": [
              "Empty DataFrame\n",
              "Columns: [message, class]\n",
              "Index: []"
            ],
            "text/html": [
              "\n",
              "  <div id=\"df-0cd10aed-47ce-41f3-b051-ffb75d5ec5f0\">\n",
              "    <div class=\"colab-df-container\">\n",
              "      <div>\n",
              "<style scoped>\n",
              "    .dataframe tbody tr th:only-of-type {\n",
              "        vertical-align: middle;\n",
              "    }\n",
              "\n",
              "    .dataframe tbody tr th {\n",
              "        vertical-align: top;\n",
              "    }\n",
              "\n",
              "    .dataframe thead th {\n",
              "        text-align: right;\n",
              "    }\n",
              "</style>\n",
              "<table border=\"1\" class=\"dataframe\">\n",
              "  <thead>\n",
              "    <tr style=\"text-align: right;\">\n",
              "      <th></th>\n",
              "      <th>message</th>\n",
              "      <th>class</th>\n",
              "    </tr>\n",
              "  </thead>\n",
              "  <tbody>\n",
              "  </tbody>\n",
              "</table>\n",
              "</div>\n",
              "      <button class=\"colab-df-convert\" onclick=\"convertToInteractive('df-0cd10aed-47ce-41f3-b051-ffb75d5ec5f0')\"\n",
              "              title=\"Convert this dataframe to an interactive table.\"\n",
              "              style=\"display:none;\">\n",
              "        \n",
              "  <svg xmlns=\"http://www.w3.org/2000/svg\" height=\"24px\"viewBox=\"0 0 24 24\"\n",
              "       width=\"24px\">\n",
              "    <path d=\"M0 0h24v24H0V0z\" fill=\"none\"/>\n",
              "    <path d=\"M18.56 5.44l.94 2.06.94-2.06 2.06-.94-2.06-.94-.94-2.06-.94 2.06-2.06.94zm-11 1L8.5 8.5l.94-2.06 2.06-.94-2.06-.94L8.5 2.5l-.94 2.06-2.06.94zm10 10l.94 2.06.94-2.06 2.06-.94-2.06-.94-.94-2.06-.94 2.06-2.06.94z\"/><path d=\"M17.41 7.96l-1.37-1.37c-.4-.4-.92-.59-1.43-.59-.52 0-1.04.2-1.43.59L10.3 9.45l-7.72 7.72c-.78.78-.78 2.05 0 2.83L4 21.41c.39.39.9.59 1.41.59.51 0 1.02-.2 1.41-.59l7.78-7.78 2.81-2.81c.8-.78.8-2.07 0-2.86zM5.41 20L4 18.59l7.72-7.72 1.47 1.35L5.41 20z\"/>\n",
              "  </svg>\n",
              "      </button>\n",
              "      \n",
              "  <style>\n",
              "    .colab-df-container {\n",
              "      display:flex;\n",
              "      flex-wrap:wrap;\n",
              "      gap: 12px;\n",
              "    }\n",
              "\n",
              "    .colab-df-convert {\n",
              "      background-color: #E8F0FE;\n",
              "      border: none;\n",
              "      border-radius: 50%;\n",
              "      cursor: pointer;\n",
              "      display: none;\n",
              "      fill: #1967D2;\n",
              "      height: 32px;\n",
              "      padding: 0 0 0 0;\n",
              "      width: 32px;\n",
              "    }\n",
              "\n",
              "    .colab-df-convert:hover {\n",
              "      background-color: #E2EBFA;\n",
              "      box-shadow: 0px 1px 2px rgba(60, 64, 67, 0.3), 0px 1px 3px 1px rgba(60, 64, 67, 0.15);\n",
              "      fill: #174EA6;\n",
              "    }\n",
              "\n",
              "    [theme=dark] .colab-df-convert {\n",
              "      background-color: #3B4455;\n",
              "      fill: #D2E3FC;\n",
              "    }\n",
              "\n",
              "    [theme=dark] .colab-df-convert:hover {\n",
              "      background-color: #434B5C;\n",
              "      box-shadow: 0px 1px 3px 1px rgba(0, 0, 0, 0.15);\n",
              "      filter: drop-shadow(0px 1px 2px rgba(0, 0, 0, 0.3));\n",
              "      fill: #FFFFFF;\n",
              "    }\n",
              "  </style>\n",
              "\n",
              "      <script>\n",
              "        const buttonEl =\n",
              "          document.querySelector('#df-0cd10aed-47ce-41f3-b051-ffb75d5ec5f0 button.colab-df-convert');\n",
              "        buttonEl.style.display =\n",
              "          google.colab.kernel.accessAllowed ? 'block' : 'none';\n",
              "\n",
              "        async function convertToInteractive(key) {\n",
              "          const element = document.querySelector('#df-0cd10aed-47ce-41f3-b051-ffb75d5ec5f0');\n",
              "          const dataTable =\n",
              "            await google.colab.kernel.invokeFunction('convertToInteractive',\n",
              "                                                     [key], {});\n",
              "          if (!dataTable) return;\n",
              "\n",
              "          const docLinkHtml = 'Like what you see? Visit the ' +\n",
              "            '<a target=\"_blank\" href=https://colab.research.google.com/notebooks/data_table.ipynb>data table notebook</a>'\n",
              "            + ' to learn more about interactive tables.';\n",
              "          element.innerHTML = '';\n",
              "          dataTable['output_type'] = 'display_data';\n",
              "          await google.colab.output.renderOutput(dataTable, element);\n",
              "          const docLink = document.createElement('div');\n",
              "          docLink.innerHTML = docLinkHtml;\n",
              "          element.appendChild(docLink);\n",
              "        }\n",
              "      </script>\n",
              "    </div>\n",
              "  </div>\n",
              "  "
            ]
          },
          "metadata": {},
          "execution_count": 20
        }
      ]
    },
    {
      "cell_type": "code",
      "source": [
        "# spam and ham emails\n",
        "spamEmails = data[data['class']=='spam']\n",
        "hamEmails = data[data['class']=='ham']\n",
        "# training data\n",
        "spamTrain = spamEmails.sample(frac=0.7,random_state=100)\n",
        "hamTrain = hamEmails.sample(frac=0.7,random_state=100)\n",
        "dfTrain = pd.concat([spamTrain,hamTrain])\n",
        "# test data\n",
        "spamTest = spamEmails.drop(spamTrain.index)\n",
        "hamTest = hamEmails.drop(hamTrain.index)\n",
        "dfTest = pd.concat([spamTest, hamTest])"
      ],
      "metadata": {
        "id": "gZ5QVkQGVjAf"
      },
      "execution_count": 23,
      "outputs": []
    },
    {
      "cell_type": "code",
      "source": [
        "data[data['class']=='spam']\n"
      ],
      "metadata": {
        "colab": {
          "base_uri": "https://localhost:8080/",
          "height": 572
        },
        "id": "knRONwhIiMrP",
        "outputId": "e585f567-7841-4b6b-b9d7-86622c55a5d7"
      },
      "execution_count": 16,
      "outputs": [
        {
          "output_type": "execute_result",
          "data": {
            "text/plain": [
              "                                                                                              message  \\\n",
              "/content/gdrive/MyDrive/Programming Topics/ML P...  <html>\\n\\n\\n\\n<head>\\n\\n<meta http-equiv=3D\"Co...   \n",
              "/content/gdrive/MyDrive/Programming Topics/ML P...  IS YOUR BUSINESS MAKING MONEY!\\n\\nSet Up To Ac...   \n",
              "/content/gdrive/MyDrive/Programming Topics/ML P...  When America's top companies compete for your ...   \n",
              "/content/gdrive/MyDrive/Programming Topics/ML P...  Lowest rates available for term life insurance...   \n",
              "/content/gdrive/MyDrive/Programming Topics/ML P...  <!-- saved from url=3D(0022)http://internet.e-...   \n",
              "...                                                                                               ...   \n",
              "/content/gdrive/MyDrive/Programming Topics/ML P...  <html>\\n\\n<head>\\n\\n</head>\\n\\n  <body backgro...   \n",
              "/content/gdrive/MyDrive/Programming Topics/ML P...  <html><body><center>\\n\\n\\n\\n<table bgcolor=3D\"...   \n",
              "/content/gdrive/MyDrive/Programming Topics/ML P...  <HR>\\n\\n<html>\\n\\n<head>\\n\\n  <title>Secured I...   \n",
              "/content/gdrive/MyDrive/Programming Topics/ML P...  \\n\\n\\n\\n\\n\\n\\n\\n\\n\\n\\n\\n\\n\\nFROM:MR. DESMOND S...   \n",
              "/content/gdrive/MyDrive/Programming Topics/ML P...  UNCOMMON EXOTIC PLEASURE BOTANICALS!\\n\\n\\n\\nFe...   \n",
              "\n",
              "                                                   class  \n",
              "/content/gdrive/MyDrive/Programming Topics/ML P...  spam  \n",
              "/content/gdrive/MyDrive/Programming Topics/ML P...  spam  \n",
              "/content/gdrive/MyDrive/Programming Topics/ML P...  spam  \n",
              "/content/gdrive/MyDrive/Programming Topics/ML P...  spam  \n",
              "/content/gdrive/MyDrive/Programming Topics/ML P...  spam  \n",
              "...                                                  ...  \n",
              "/content/gdrive/MyDrive/Programming Topics/ML P...  spam  \n",
              "/content/gdrive/MyDrive/Programming Topics/ML P...  spam  \n",
              "/content/gdrive/MyDrive/Programming Topics/ML P...  spam  \n",
              "/content/gdrive/MyDrive/Programming Topics/ML P...  spam  \n",
              "/content/gdrive/MyDrive/Programming Topics/ML P...  spam  \n",
              "\n",
              "[500 rows x 2 columns]"
            ],
            "text/html": [
              "\n",
              "  <div id=\"df-3586c057-ec4d-4593-96fe-bada5d5303f0\">\n",
              "    <div class=\"colab-df-container\">\n",
              "      <div>\n",
              "<style scoped>\n",
              "    .dataframe tbody tr th:only-of-type {\n",
              "        vertical-align: middle;\n",
              "    }\n",
              "\n",
              "    .dataframe tbody tr th {\n",
              "        vertical-align: top;\n",
              "    }\n",
              "\n",
              "    .dataframe thead th {\n",
              "        text-align: right;\n",
              "    }\n",
              "</style>\n",
              "<table border=\"1\" class=\"dataframe\">\n",
              "  <thead>\n",
              "    <tr style=\"text-align: right;\">\n",
              "      <th></th>\n",
              "      <th>message</th>\n",
              "      <th>class</th>\n",
              "    </tr>\n",
              "  </thead>\n",
              "  <tbody>\n",
              "    <tr>\n",
              "      <th>/content/gdrive/MyDrive/Programming Topics/ML Python/emailsNB/spam/00030.0c9cdd9d4025bd55dac02719ec8d29dc</th>\n",
              "      <td>&lt;html&gt;\\n\\n\\n\\n&lt;head&gt;\\n\\n&lt;meta http-equiv=3D\"Co...</td>\n",
              "      <td>spam</td>\n",
              "    </tr>\n",
              "    <tr>\n",
              "      <th>/content/gdrive/MyDrive/Programming Topics/ML Python/emailsNB/spam/00063.2334fb4e465fc61e8406c75918ff72ed</th>\n",
              "      <td>IS YOUR BUSINESS MAKING MONEY!\\n\\nSet Up To Ac...</td>\n",
              "      <td>spam</td>\n",
              "    </tr>\n",
              "    <tr>\n",
              "      <th>/content/gdrive/MyDrive/Programming Topics/ML Python/emailsNB/spam/00070.ab34b6c044a55bef3d6c1f64b7521773</th>\n",
              "      <td>When America's top companies compete for your ...</td>\n",
              "      <td>spam</td>\n",
              "    </tr>\n",
              "    <tr>\n",
              "      <th>/content/gdrive/MyDrive/Programming Topics/ML Python/emailsNB/spam/00057.0a2e17bde9485e999ac2259df38528e2</th>\n",
              "      <td>Lowest rates available for term life insurance...</td>\n",
              "      <td>spam</td>\n",
              "    </tr>\n",
              "    <tr>\n",
              "      <th>/content/gdrive/MyDrive/Programming Topics/ML Python/emailsNB/spam/00061.bec763248306fb3228141491856ed216</th>\n",
              "      <td>&lt;!-- saved from url=3D(0022)http://internet.e-...</td>\n",
              "      <td>spam</td>\n",
              "    </tr>\n",
              "    <tr>\n",
              "      <th>...</th>\n",
              "      <td>...</td>\n",
              "      <td>...</td>\n",
              "    </tr>\n",
              "    <tr>\n",
              "      <th>/content/gdrive/MyDrive/Programming Topics/ML Python/emailsNB/spam/00499.988506a852cf86b396771a8bdc8cf839</th>\n",
              "      <td>&lt;html&gt;\\n\\n&lt;head&gt;\\n\\n&lt;/head&gt;\\n\\n  &lt;body backgro...</td>\n",
              "      <td>spam</td>\n",
              "    </tr>\n",
              "    <tr>\n",
              "      <th>/content/gdrive/MyDrive/Programming Topics/ML Python/emailsNB/spam/00492.73db79fb9ad03aff1e08deb73b83203c</th>\n",
              "      <td>&lt;html&gt;&lt;body&gt;&lt;center&gt;\\n\\n\\n\\n&lt;table bgcolor=3D\"...</td>\n",
              "      <td>spam</td>\n",
              "    </tr>\n",
              "    <tr>\n",
              "      <th>/content/gdrive/MyDrive/Programming Topics/ML Python/emailsNB/spam/00493.1c5f59825f7a246187c137614fb1ea82</th>\n",
              "      <td>&lt;HR&gt;\\n\\n&lt;html&gt;\\n\\n&lt;head&gt;\\n\\n  &lt;title&gt;Secured I...</td>\n",
              "      <td>spam</td>\n",
              "    </tr>\n",
              "    <tr>\n",
              "      <th>/content/gdrive/MyDrive/Programming Topics/ML Python/emailsNB/spam/00495.e22a609b7dc412c120d09e11544c67fb</th>\n",
              "      <td>\\n\\n\\n\\n\\n\\n\\n\\n\\n\\n\\n\\n\\n\\nFROM:MR. DESMOND S...</td>\n",
              "      <td>spam</td>\n",
              "    </tr>\n",
              "    <tr>\n",
              "      <th>/content/gdrive/MyDrive/Programming Topics/ML Python/emailsNB/spam/00489.023c1d77de9365cad956a4c9118aee4b</th>\n",
              "      <td>UNCOMMON EXOTIC PLEASURE BOTANICALS!\\n\\n\\n\\nFe...</td>\n",
              "      <td>spam</td>\n",
              "    </tr>\n",
              "  </tbody>\n",
              "</table>\n",
              "<p>500 rows × 2 columns</p>\n",
              "</div>\n",
              "      <button class=\"colab-df-convert\" onclick=\"convertToInteractive('df-3586c057-ec4d-4593-96fe-bada5d5303f0')\"\n",
              "              title=\"Convert this dataframe to an interactive table.\"\n",
              "              style=\"display:none;\">\n",
              "        \n",
              "  <svg xmlns=\"http://www.w3.org/2000/svg\" height=\"24px\"viewBox=\"0 0 24 24\"\n",
              "       width=\"24px\">\n",
              "    <path d=\"M0 0h24v24H0V0z\" fill=\"none\"/>\n",
              "    <path d=\"M18.56 5.44l.94 2.06.94-2.06 2.06-.94-2.06-.94-.94-2.06-.94 2.06-2.06.94zm-11 1L8.5 8.5l.94-2.06 2.06-.94-2.06-.94L8.5 2.5l-.94 2.06-2.06.94zm10 10l.94 2.06.94-2.06 2.06-.94-2.06-.94-.94-2.06-.94 2.06-2.06.94z\"/><path d=\"M17.41 7.96l-1.37-1.37c-.4-.4-.92-.59-1.43-.59-.52 0-1.04.2-1.43.59L10.3 9.45l-7.72 7.72c-.78.78-.78 2.05 0 2.83L4 21.41c.39.39.9.59 1.41.59.51 0 1.02-.2 1.41-.59l7.78-7.78 2.81-2.81c.8-.78.8-2.07 0-2.86zM5.41 20L4 18.59l7.72-7.72 1.47 1.35L5.41 20z\"/>\n",
              "  </svg>\n",
              "      </button>\n",
              "      \n",
              "  <style>\n",
              "    .colab-df-container {\n",
              "      display:flex;\n",
              "      flex-wrap:wrap;\n",
              "      gap: 12px;\n",
              "    }\n",
              "\n",
              "    .colab-df-convert {\n",
              "      background-color: #E8F0FE;\n",
              "      border: none;\n",
              "      border-radius: 50%;\n",
              "      cursor: pointer;\n",
              "      display: none;\n",
              "      fill: #1967D2;\n",
              "      height: 32px;\n",
              "      padding: 0 0 0 0;\n",
              "      width: 32px;\n",
              "    }\n",
              "\n",
              "    .colab-df-convert:hover {\n",
              "      background-color: #E2EBFA;\n",
              "      box-shadow: 0px 1px 2px rgba(60, 64, 67, 0.3), 0px 1px 3px 1px rgba(60, 64, 67, 0.15);\n",
              "      fill: #174EA6;\n",
              "    }\n",
              "\n",
              "    [theme=dark] .colab-df-convert {\n",
              "      background-color: #3B4455;\n",
              "      fill: #D2E3FC;\n",
              "    }\n",
              "\n",
              "    [theme=dark] .colab-df-convert:hover {\n",
              "      background-color: #434B5C;\n",
              "      box-shadow: 0px 1px 3px 1px rgba(0, 0, 0, 0.15);\n",
              "      filter: drop-shadow(0px 1px 2px rgba(0, 0, 0, 0.3));\n",
              "      fill: #FFFFFF;\n",
              "    }\n",
              "  </style>\n",
              "\n",
              "      <script>\n",
              "        const buttonEl =\n",
              "          document.querySelector('#df-3586c057-ec4d-4593-96fe-bada5d5303f0 button.colab-df-convert');\n",
              "        buttonEl.style.display =\n",
              "          google.colab.kernel.accessAllowed ? 'block' : 'none';\n",
              "\n",
              "        async function convertToInteractive(key) {\n",
              "          const element = document.querySelector('#df-3586c057-ec4d-4593-96fe-bada5d5303f0');\n",
              "          const dataTable =\n",
              "            await google.colab.kernel.invokeFunction('convertToInteractive',\n",
              "                                                     [key], {});\n",
              "          if (!dataTable) return;\n",
              "\n",
              "          const docLinkHtml = 'Like what you see? Visit the ' +\n",
              "            '<a target=\"_blank\" href=https://colab.research.google.com/notebooks/data_table.ipynb>data table notebook</a>'\n",
              "            + ' to learn more about interactive tables.';\n",
              "          element.innerHTML = '';\n",
              "          dataTable['output_type'] = 'display_data';\n",
              "          await google.colab.output.renderOutput(dataTable, element);\n",
              "          const docLink = document.createElement('div');\n",
              "          docLink.innerHTML = docLinkHtml;\n",
              "          element.appendChild(docLink);\n",
              "        }\n",
              "      </script>\n",
              "    </div>\n",
              "  </div>\n",
              "  "
            ]
          },
          "metadata": {},
          "execution_count": 16
        }
      ]
    },
    {
      "cell_type": "code",
      "source": [
        "dfTest"
      ],
      "metadata": {
        "colab": {
          "base_uri": "https://localhost:8080/",
          "height": 468
        },
        "id": "jbV3rYEBiQKB",
        "outputId": "ce351b85-3d28-4350-8d85-e16d919fe831"
      },
      "execution_count": 11,
      "outputs": [
        {
          "output_type": "execute_result",
          "data": {
            "text/plain": [
              "                                                                                              message  \\\n",
              "/content/gdrive/MyDrive/Programming Topics/ML P...  <html>\\n\\n\\n\\n<head>\\n\\n<meta http-equiv=3D\"Co...   \n",
              "/content/gdrive/MyDrive/Programming Topics/ML P...  When America's top companies compete for your ...   \n",
              "/content/gdrive/MyDrive/Programming Topics/ML P...  <!-- saved from url=3D(0022)http://internet.e-...   \n",
              "/content/gdrive/MyDrive/Programming Topics/ML P...  <html>\\n\\n<head>\\n\\n</head>\\n\\n<body>\\n\\n\\n\\n<...   \n",
              "/content/gdrive/MyDrive/Programming Topics/ML P...  TIRED OF THE BULL OUT THERE?\\n\\nWant To Stop L...   \n",
              "...                                                                                               ...   \n",
              "/content/gdrive/MyDrive/Programming Topics/ML P...  Jim Whitehead wrote:\\n\\n\\n\\n>Great, this is ha...   \n",
              "/content/gdrive/MyDrive/Programming Topics/ML P...  On Fri, 6 Sep 2002, Russell Turpin wrote:\\n\\n\\...   \n",
              "/content/gdrive/MyDrive/Programming Topics/ML P...  This article from NYTimes.com \\n\\nhas been sen...   \n",
              "/content/gdrive/MyDrive/Programming Topics/ML P...  On Thu, 5 Sep 2002 bitbitch@magnesium.net wrot...   \n",
              "/content/gdrive/MyDrive/Programming Topics/ML P...  Definitional nit to pick:\\n\\n\\n\\nRobert Harley...   \n",
              "\n",
              "                                                   class  \n",
              "/content/gdrive/MyDrive/Programming Topics/ML P...  spam  \n",
              "/content/gdrive/MyDrive/Programming Topics/ML P...  spam  \n",
              "/content/gdrive/MyDrive/Programming Topics/ML P...  spam  \n",
              "/content/gdrive/MyDrive/Programming Topics/ML P...  spam  \n",
              "/content/gdrive/MyDrive/Programming Topics/ML P...  spam  \n",
              "...                                                  ...  \n",
              "/content/gdrive/MyDrive/Programming Topics/ML P...   ham  \n",
              "/content/gdrive/MyDrive/Programming Topics/ML P...   ham  \n",
              "/content/gdrive/MyDrive/Programming Topics/ML P...   ham  \n",
              "/content/gdrive/MyDrive/Programming Topics/ML P...   ham  \n",
              "/content/gdrive/MyDrive/Programming Topics/ML P...   ham  \n",
              "\n",
              "[5300 rows x 2 columns]"
            ],
            "text/html": [
              "\n",
              "  <div id=\"df-b6a8a2a2-3117-4864-b520-c17d4fc28943\">\n",
              "    <div class=\"colab-df-container\">\n",
              "      <div>\n",
              "<style scoped>\n",
              "    .dataframe tbody tr th:only-of-type {\n",
              "        vertical-align: middle;\n",
              "    }\n",
              "\n",
              "    .dataframe tbody tr th {\n",
              "        vertical-align: top;\n",
              "    }\n",
              "\n",
              "    .dataframe thead th {\n",
              "        text-align: right;\n",
              "    }\n",
              "</style>\n",
              "<table border=\"1\" class=\"dataframe\">\n",
              "  <thead>\n",
              "    <tr style=\"text-align: right;\">\n",
              "      <th></th>\n",
              "      <th>message</th>\n",
              "      <th>class</th>\n",
              "    </tr>\n",
              "  </thead>\n",
              "  <tbody>\n",
              "    <tr>\n",
              "      <th>/content/gdrive/MyDrive/Programming Topics/ML Python/emailsNB/spam/00030.0c9cdd9d4025bd55dac02719ec8d29dc</th>\n",
              "      <td>&lt;html&gt;\\n\\n\\n\\n&lt;head&gt;\\n\\n&lt;meta http-equiv=3D\"Co...</td>\n",
              "      <td>spam</td>\n",
              "    </tr>\n",
              "    <tr>\n",
              "      <th>/content/gdrive/MyDrive/Programming Topics/ML Python/emailsNB/spam/00070.ab34b6c044a55bef3d6c1f64b7521773</th>\n",
              "      <td>When America's top companies compete for your ...</td>\n",
              "      <td>spam</td>\n",
              "    </tr>\n",
              "    <tr>\n",
              "      <th>/content/gdrive/MyDrive/Programming Topics/ML Python/emailsNB/spam/00061.bec763248306fb3228141491856ed216</th>\n",
              "      <td>&lt;!-- saved from url=3D(0022)http://internet.e-...</td>\n",
              "      <td>spam</td>\n",
              "    </tr>\n",
              "    <tr>\n",
              "      <th>/content/gdrive/MyDrive/Programming Topics/ML Python/emailsNB/spam/00058.64bb1902c4e561fb3e521a6dbf8625be</th>\n",
              "      <td>&lt;html&gt;\\n\\n&lt;head&gt;\\n\\n&lt;/head&gt;\\n\\n&lt;body&gt;\\n\\n\\n\\n&lt;...</td>\n",
              "      <td>spam</td>\n",
              "    </tr>\n",
              "    <tr>\n",
              "      <th>/content/gdrive/MyDrive/Programming Topics/ML Python/emailsNB/spam/00009.027bf6e0b0c4ab34db3ce0ea4bf2edab</th>\n",
              "      <td>TIRED OF THE BULL OUT THERE?\\n\\nWant To Stop L...</td>\n",
              "      <td>spam</td>\n",
              "    </tr>\n",
              "    <tr>\n",
              "      <th>...</th>\n",
              "      <td>...</td>\n",
              "      <td>...</td>\n",
              "    </tr>\n",
              "    <tr>\n",
              "      <th>/content/gdrive/MyDrive/Programming Topics/ML Python/emailsNB/ham/00427.49db73be9017efca7355ee80f173a26c</th>\n",
              "      <td>Jim Whitehead wrote:\\n\\n\\n\\n&gt;Great, this is ha...</td>\n",
              "      <td>ham</td>\n",
              "    </tr>\n",
              "    <tr>\n",
              "      <th>/content/gdrive/MyDrive/Programming Topics/ML Python/emailsNB/ham/00465.772004398b9f98bc63ab9c603b10ce08</th>\n",
              "      <td>On Fri, 6 Sep 2002, Russell Turpin wrote:\\n\\n\\...</td>\n",
              "      <td>ham</td>\n",
              "    </tr>\n",
              "    <tr>\n",
              "      <th>/content/gdrive/MyDrive/Programming Topics/ML Python/emailsNB/ham/00548.120e45c5d33311bc09e844bf236521d2</th>\n",
              "      <td>This article from NYTimes.com \\n\\nhas been sen...</td>\n",
              "      <td>ham</td>\n",
              "    </tr>\n",
              "    <tr>\n",
              "      <th>/content/gdrive/MyDrive/Programming Topics/ML Python/emailsNB/ham/00454.e4cd59db7f7856303052e3e882be313c</th>\n",
              "      <td>On Thu, 5 Sep 2002 bitbitch@magnesium.net wrot...</td>\n",
              "      <td>ham</td>\n",
              "    </tr>\n",
              "    <tr>\n",
              "      <th>/content/gdrive/MyDrive/Programming Topics/ML Python/emailsNB/ham/00491.c0d9405bdda12781f96bc37c00a382d9</th>\n",
              "      <td>Definitional nit to pick:\\n\\n\\n\\nRobert Harley...</td>\n",
              "      <td>ham</td>\n",
              "    </tr>\n",
              "  </tbody>\n",
              "</table>\n",
              "<p>5300 rows × 2 columns</p>\n",
              "</div>\n",
              "      <button class=\"colab-df-convert\" onclick=\"convertToInteractive('df-b6a8a2a2-3117-4864-b520-c17d4fc28943')\"\n",
              "              title=\"Convert this dataframe to an interactive table.\"\n",
              "              style=\"display:none;\">\n",
              "        \n",
              "  <svg xmlns=\"http://www.w3.org/2000/svg\" height=\"24px\"viewBox=\"0 0 24 24\"\n",
              "       width=\"24px\">\n",
              "    <path d=\"M0 0h24v24H0V0z\" fill=\"none\"/>\n",
              "    <path d=\"M18.56 5.44l.94 2.06.94-2.06 2.06-.94-2.06-.94-.94-2.06-.94 2.06-2.06.94zm-11 1L8.5 8.5l.94-2.06 2.06-.94-2.06-.94L8.5 2.5l-.94 2.06-2.06.94zm10 10l.94 2.06.94-2.06 2.06-.94-2.06-.94-.94-2.06-.94 2.06-2.06.94z\"/><path d=\"M17.41 7.96l-1.37-1.37c-.4-.4-.92-.59-1.43-.59-.52 0-1.04.2-1.43.59L10.3 9.45l-7.72 7.72c-.78.78-.78 2.05 0 2.83L4 21.41c.39.39.9.59 1.41.59.51 0 1.02-.2 1.41-.59l7.78-7.78 2.81-2.81c.8-.78.8-2.07 0-2.86zM5.41 20L4 18.59l7.72-7.72 1.47 1.35L5.41 20z\"/>\n",
              "  </svg>\n",
              "      </button>\n",
              "      \n",
              "  <style>\n",
              "    .colab-df-container {\n",
              "      display:flex;\n",
              "      flex-wrap:wrap;\n",
              "      gap: 12px;\n",
              "    }\n",
              "\n",
              "    .colab-df-convert {\n",
              "      background-color: #E8F0FE;\n",
              "      border: none;\n",
              "      border-radius: 50%;\n",
              "      cursor: pointer;\n",
              "      display: none;\n",
              "      fill: #1967D2;\n",
              "      height: 32px;\n",
              "      padding: 0 0 0 0;\n",
              "      width: 32px;\n",
              "    }\n",
              "\n",
              "    .colab-df-convert:hover {\n",
              "      background-color: #E2EBFA;\n",
              "      box-shadow: 0px 1px 2px rgba(60, 64, 67, 0.3), 0px 1px 3px 1px rgba(60, 64, 67, 0.15);\n",
              "      fill: #174EA6;\n",
              "    }\n",
              "\n",
              "    [theme=dark] .colab-df-convert {\n",
              "      background-color: #3B4455;\n",
              "      fill: #D2E3FC;\n",
              "    }\n",
              "\n",
              "    [theme=dark] .colab-df-convert:hover {\n",
              "      background-color: #434B5C;\n",
              "      box-shadow: 0px 1px 3px 1px rgba(0, 0, 0, 0.15);\n",
              "      filter: drop-shadow(0px 1px 2px rgba(0, 0, 0, 0.3));\n",
              "      fill: #FFFFFF;\n",
              "    }\n",
              "  </style>\n",
              "\n",
              "      <script>\n",
              "        const buttonEl =\n",
              "          document.querySelector('#df-b6a8a2a2-3117-4864-b520-c17d4fc28943 button.colab-df-convert');\n",
              "        buttonEl.style.display =\n",
              "          google.colab.kernel.accessAllowed ? 'block' : 'none';\n",
              "\n",
              "        async function convertToInteractive(key) {\n",
              "          const element = document.querySelector('#df-b6a8a2a2-3117-4864-b520-c17d4fc28943');\n",
              "          const dataTable =\n",
              "            await google.colab.kernel.invokeFunction('convertToInteractive',\n",
              "                                                     [key], {});\n",
              "          if (!dataTable) return;\n",
              "\n",
              "          const docLinkHtml = 'Like what you see? Visit the ' +\n",
              "            '<a target=\"_blank\" href=https://colab.research.google.com/notebooks/data_table.ipynb>data table notebook</a>'\n",
              "            + ' to learn more about interactive tables.';\n",
              "          element.innerHTML = '';\n",
              "          dataTable['output_type'] = 'display_data';\n",
              "          await google.colab.output.renderOutput(dataTable, element);\n",
              "          const docLink = document.createElement('div');\n",
              "          docLink.innerHTML = docLinkHtml;\n",
              "          element.appendChild(docLink);\n",
              "        }\n",
              "      </script>\n",
              "    </div>\n",
              "  </div>\n",
              "  "
            ]
          },
          "metadata": {},
          "execution_count": 11
        }
      ]
    },
    {
      "cell_type": "code",
      "source": [
        "print(5000*0.7)\n",
        "print(574*0.7)"
      ],
      "metadata": {
        "colab": {
          "base_uri": "https://localhost:8080/"
        },
        "id": "iimjLwX7VhmZ",
        "outputId": "1e14dca7-9dd9-467b-ea91-a5e301709d0c"
      },
      "execution_count": 9,
      "outputs": [
        {
          "output_type": "stream",
          "name": "stdout",
          "text": [
            "3500.0\n",
            "401.79999999999995\n"
          ]
        }
      ]
    }
  ]
}