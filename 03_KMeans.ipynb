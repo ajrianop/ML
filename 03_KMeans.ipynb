{
  "nbformat": 4,
  "nbformat_minor": 0,
  "metadata": {
    "colab": {
      "provenance": [],
      "authorship_tag": "ABX9TyN4F1B3bUKOU/Ph9zlRAM/w",
      "include_colab_link": true
    },
    "kernelspec": {
      "name": "python3",
      "display_name": "Python 3"
    },
    "language_info": {
      "name": "python"
    }
  },
  "cells": [
    {
      "cell_type": "markdown",
      "metadata": {
        "id": "view-in-github",
        "colab_type": "text"
      },
      "source": [
        "<a href=\"https://colab.research.google.com/github/ajrianop/ML/blob/main/03_KMeans.ipynb\" target=\"_parent\"><img src=\"https://colab.research.google.com/assets/colab-badge.svg\" alt=\"Open In Colab\"/></a>"
      ]
    },
    {
      "cell_type": "markdown",
      "source": [
        "# **K-Means**"
      ],
      "metadata": {
        "id": "D25p3OyNnd5a"
      }
    },
    {
      "cell_type": "markdown",
      "source": [
        "K-Means clustering is method of unsupervised learning which attempts to split data into K groups which are near to a centroid (this groups also are called clusters).\n",
        "This methods could be used to classified the place where are located milloniares in a city, detect areas of crimes, cluster documents according to different categories, classify music, between other applications."
      ],
      "metadata": {
        "id": "eA4hxmg0nyjd"
      }
    },
    {
      "cell_type": "markdown",
      "source": [
        "**How does it work?**\n",
        "* This choose ramdomly K centroids\n",
        "* Assing to each centroid points in our data, those whose are closest to.\n",
        "* Then recompute the centroids based on the average posirion of each centroid's points.\n",
        "* Do the same until the assignments to the centroids stop.\n",
        "\n",
        "**Some issues with K-means**\n",
        "\n",
        "* If we choose different centroids, it can yield to different results, so it is a good idea to run this several times to make you sure.\n",
        "* The cluster that you obtain does not have any sense until you study deeply the information related to this clusters."
      ],
      "metadata": {
        "id": "lbASrixjeFs7"
      }
    },
    {
      "cell_type": "markdown",
      "source": [
        "## **Example**"
      ],
      "metadata": {
        "id": "Dbt9_7WSX6wL"
      }
    },
    {
      "cell_type": "markdown",
      "source": [
        "Let us create a data set with random values and fixing some centroids."
      ],
      "metadata": {
        "id": "hKDTtm4yfJ4Q"
      }
    },
    {
      "cell_type": "code",
      "source": [],
      "metadata": {
        "id": "8gB-Lm52d74D"
      },
      "execution_count": null,
      "outputs": []
    },
    {
      "cell_type": "code",
      "execution_count": null,
      "metadata": {
        "id": "7K5h0Fp4naz1"
      },
      "outputs": [],
      "source": []
    }
  ]
}