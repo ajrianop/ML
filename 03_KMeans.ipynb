{
  "nbformat": 4,
  "nbformat_minor": 0,
  "metadata": {
    "colab": {
      "provenance": [],
      "authorship_tag": "ABX9TyPhhKMEJrxaBv9ytNOcQKkM",
      "include_colab_link": true
    },
    "kernelspec": {
      "name": "python3",
      "display_name": "Python 3"
    },
    "language_info": {
      "name": "python"
    }
  },
  "cells": [
    {
      "cell_type": "markdown",
      "metadata": {
        "id": "view-in-github",
        "colab_type": "text"
      },
      "source": [
        "<a href=\"https://colab.research.google.com/github/ajrianop/ML/blob/main/03_KMeans.ipynb\" target=\"_parent\"><img src=\"https://colab.research.google.com/assets/colab-badge.svg\" alt=\"Open In Colab\"/></a>"
      ]
    },
    {
      "cell_type": "markdown",
      "source": [
        "# **K-Means**"
      ],
      "metadata": {
        "id": "D25p3OyNnd5a"
      }
    },
    {
      "cell_type": "markdown",
      "source": [
        "K-Means clustering is method of unsupervised learning which attempts to split data into K groups which are near to a centroid (this groups also are called clusters).\n",
        "This methods could be used to classified the place where are located milloniares in a city, detect areas of crimes, cluster documents according to different categories, classify music, between other applications."
      ],
      "metadata": {
        "id": "eA4hxmg0nyjd"
      }
    },
    {
      "cell_type": "markdown",
      "source": [
        "**How does it work?**\n",
        "* This choose ramdomly K centroids\n",
        "* Assing to each centroid points in our data, those whose are closest to.\n",
        "* Then recompute the centroids based on the average posirion of each centroid's points.\n",
        "* Do the same until the assignments to the centroids stop.\n",
        "\n",
        "**Some issues with K-means**\n",
        "\n",
        "* If we choose different centroids, it can yield to different results, so it is a good idea to run this several times to make you sure.\n",
        "* The cluster that you obtain does not have any sense until you study deeply the information related to this clusters."
      ],
      "metadata": {
        "id": "lbASrixjeFs7"
      }
    },
    {
      "cell_type": "markdown",
      "source": [
        "## **Example**"
      ],
      "metadata": {
        "id": "Dbt9_7WSX6wL"
      }
    },
    {
      "cell_type": "markdown",
      "source": [
        "Let us create a data set with random values and fixing some centroids."
      ],
      "metadata": {
        "id": "hKDTtm4yfJ4Q"
      }
    },
    {
      "cell_type": "code",
      "source": [
        "def dataSample(N : int, k : float):\n",
        "  return N,k"
      ],
      "metadata": {
        "id": "8gB-Lm52d74D"
      },
      "execution_count": 3,
      "outputs": []
    },
    {
      "cell_type": "code",
      "execution_count": 4,
      "metadata": {
        "id": "7K5h0Fp4naz1",
        "colab": {
          "base_uri": "https://localhost:8080/"
        },
        "outputId": "23cdab36-17f1-423f-af64-63f5c3be5312"
      },
      "outputs": [
        {
          "output_type": "execute_result",
          "data": {
            "text/plain": [
              "(5, 1)"
            ]
          },
          "metadata": {},
          "execution_count": 4
        }
      ],
      "source": [
        "dataSample(5,1)"
      ]
    },
    {
      "cell_type": "code",
      "source": [
        "import numpy as np\n",
        "\n",
        "# Generate random array of size 10x2\n",
        "arr = np.random.randint(low=0, high=100, size=(100, 2))"
      ],
      "metadata": {
        "id": "fXsxd04EGDc-"
      },
      "execution_count": 5,
      "outputs": []
    },
    {
      "cell_type": "code",
      "source": [
        "from sklearn.cluster import KMeans\n",
        "import numpy as np\n",
        "\n",
        "def randomList(n):\n",
        "  #Generate a random array of n list with two elements\n",
        "  arr = np.random.randint(low=0, high=100, size=(n, 2))\n",
        "  return arr\n",
        "\n",
        "\n",
        "# Sample data\n",
        "X = randomList(200)\n",
        "\n",
        "# Number of clusters\n",
        "k = 2\n",
        "\n",
        "# Initialize KMeans model\n",
        "kmeans = KMeans(n_clusters=k)\n",
        "\n",
        "# Fit model to data\n",
        "kmeans.fit(X)\n",
        "\n",
        "# Predict clusters for each data point\n",
        "y_pred = kmeans.predict(X)\n",
        "\n",
        "# Print clusters\n",
        "print(\"Clusters:\", y_pred)\n",
        "\n",
        "# Print cluster centers\n",
        "print(\"Cluster Centers:\", kmeans.cluster_centers_)\n"
      ],
      "metadata": {
        "colab": {
          "base_uri": "https://localhost:8080/"
        },
        "id": "FiDgwLea9ooe",
        "outputId": "dc795d0e-4403-4233-9154-d86a84ed0e52"
      },
      "execution_count": 1,
      "outputs": [
        {
          "output_type": "stream",
          "name": "stdout",
          "text": [
            "Clusters: [0 0 1 0 0 1 0 0 1 0 1 1 0 1 0 0 1 1 1 0 1 0 0 0 1 1 0 1 0 0 0 1 1 1 1 1 1\n",
            " 1 0 1 1 1 1 1 1 1 1 1 0 1 0 0 1 1 1 1 0 0 1 1 0 0 0 0 1 1 1 0 0 1 1 0 0 1\n",
            " 1 1 1 0 1 0 1 1 1 0 1 1 1 1 0 1 0 1 1 0 1 1 1 0 1 1 1 0 1 0 0 1 1 0 0 0 1\n",
            " 0 1 1 1 0 1 1 1 1 0 0 0 0 0 0 0 1 1 1 1 1 1 0 1 1 0 1 1 1 0 1 1 0 0 0 1 0\n",
            " 0 1 0 1 1 0 1 0 1 0 1 0 0 1 0 0 1 0 0 0 0 1 0 0 1 1 1 0 1 1 0 0 1 1 1 1 0\n",
            " 0 0 1 1 0 1 1 0 1 1 0 1 1 1 1]\n",
            "Cluster Centers: [[55.76470588 76.97647059]\n",
            " [46.66956522 24.08695652]]\n"
          ]
        }
      ]
    },
    {
      "cell_type": "code",
      "source": [
        "import matplotlib.pyplot as plt\n",
        "\n",
        "# Plot data points\n",
        "plt.scatter(X[:, 0], X[:, 1], c=y_pred)\n",
        "\n",
        "# Plot cluster centers\n",
        "plt.scatter(kmeans.cluster_centers_[:, 0], kmeans.cluster_centers_[:, 1], marker='x', c='red')\n",
        "plt.xlabel('X1')\n",
        "plt.ylabel('X2')\n",
        "plt.title('K-Means Clustering')\n",
        "# Show plot\n",
        "plt.show()\n"
      ],
      "metadata": {
        "colab": {
          "base_uri": "https://localhost:8080/",
          "height": 295
        },
        "id": "QEA4_7Dq93e2",
        "outputId": "f039ef5f-e6f3-48ae-eb0b-79cf1a8aea21"
      },
      "execution_count": 2,
      "outputs": [
        {
          "output_type": "display_data",
          "data": {
            "text/plain": [
              "<Figure size 432x288 with 1 Axes>"
            ],
            "image/png": "[encoded data removed]"
          },
          "metadata": {
            "needs_background": "light"
          }
        }
      ]
    },
    {
      "cell_type": "code",
      "source": [
        "from sklearn.cluster import KMeans\n",
        "import matplotlib.pyplot as plt\n",
        "from sklearn.preprocessing import scale\n",
        "from numpy import random, float"
      ],
      "metadata": {
        "colab": {
          "base_uri": "https://localhost:8080/"
        },
        "id": "EEflve4b8VFf",
        "outputId": "409631a4-5d4f-4b20-a019-eb6cc0153dbf"
      },
      "execution_count": 6,
      "outputs": [
        {
          "output_type": "stream",
          "name": "stderr",
          "text": [
            "<ipython-input-6-5e8015ba5eac>:4: DeprecationWarning: `np.float` is a deprecated alias for the builtin `float`. To silence this warning, use `float` by itself. Doing this will not modify any behavior and is safe. If you specifically wanted the numpy scalar type, use `np.float64` here.\n",
            "Deprecated in NumPy 1.20; for more details and guidance: https://numpy.org/devdocs/release/1.20.0-notes.html#deprecations\n",
            "  from numpy import random, float\n"
          ]
        }
      ]
    }
  ]
}