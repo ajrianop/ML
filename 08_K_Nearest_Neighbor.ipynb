{
  "nbformat": 4,
  "nbformat_minor": 0,
  "metadata": {
    "colab": {
      "provenance": [],
      "authorship_tag": "ABX9TyNdjkbgSMJW86xqgLwhLEmu",
      "include_colab_link": true
    },
    "kernelspec": {
      "name": "python3",
      "display_name": "Python 3"
    },
    "language_info": {
      "name": "python"
    }
  },
  "cells": [
    {
      "cell_type": "markdown",
      "metadata": {
        "id": "view-in-github",
        "colab_type": "text"
      },
      "source": [
        "<a href=\"https://colab.research.google.com/github/ajrianop/ML/blob/main/08_K_Nearest_Neighbor.ipynb\" target=\"_parent\"><img src=\"https://colab.research.google.com/assets/colab-badge.svg\" alt=\"Open In Colab\"/></a>"
      ]
    },
    {
      "cell_type": "markdown",
      "source": [
        "# **KNN or K-Nearest Neighbor**"
      ],
      "metadata": {
        "id": "BmeC-4mjPZ-h"
      }
    },
    {
      "cell_type": "markdown",
      "source": [
        "It is a supervised machine learning algorithm used for classification based on distance. Typically, we aim to classify points by considering a fixed number of neighbors, finding the nearest data points given a collection of information. Here's how the algorithm works:\n",
        "\n",
        "1. Compute the distance between the items to be classified and the trained data, which is stored in memory.\n",
        "2. Determine the label for the classification based on the scores obtained from the k-nearest elements among all the different groups."
      ],
      "metadata": {
        "id": "0sDmdiKYPdVo"
      }
    },
    {
      "cell_type": "code",
      "execution_count": null,
      "metadata": {
        "id": "b--BLC_aPZdH"
      },
      "outputs": [],
      "source": []
    }
  ]
}