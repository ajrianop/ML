{
  "nbformat": 4,
  "nbformat_minor": 0,
  "metadata": {
    "colab": {
      "provenance": [],
      "authorship_tag": "ABX9TyNd5RFYdaD+4Vlo+jnFVS5e",
      "include_colab_link": true
    },
    "kernelspec": {
      "name": "python3",
      "display_name": "Python 3"
    },
    "language_info": {
      "name": "python"
    }
  },
  "cells": [
    {
      "cell_type": "markdown",
      "metadata": {
        "id": "view-in-github",
        "colab_type": "text"
      },
      "source": [
        "<a href=\"https://colab.research.google.com/github/ajrianop/ML/blob/main/06_Support_Vector_Machine(SVM).ipynb\" target=\"_parent\"><img src=\"https://colab.research.google.com/assets/colab-badge.svg\" alt=\"Open In Colab\"/></a>"
      ]
    },
    {
      "cell_type": "markdown",
      "source": [
        "# **Support Vector Machine**"
      ],
      "metadata": {
        "id": "dBWPEioSByf6"
      }
    },
    {
      "cell_type": "markdown",
      "source": [
        "Support Vector Machine is a supervised machine learning algorithm used for classification and regression tasks. This algorithm works well for classifying high-dimensional data with many features. Usually, it is used to solve binary problems, where we have to categorize data points into two classes based on their features.\n",
        "\n",
        "The algorithm works by finding the best hyperplane that maximizes the margin between the two classes. This means that the algorithm finds a decision boundary (line in 2-dimensional or hyperplane in n-dimensional space) that generates the largest possible gap between the data points of different classes, so that the distance between the closest data point from each class is as large as possible.\n",
        "\n",
        "We have to take into account that not always our problem is linearly separable. In such cases, this algorithm can use a **kernel function** to transform the data into a higher-dimensional space where linear separation might be possible. This is known as **\"the kernel trick\"**, and it allows us to handle complex and non-linear data."
      ],
      "metadata": {
        "id": "QMUZ03KcB8v6"
      }
    },
    {
      "cell_type": "markdown",
      "source": [
        "There are some difficulties with the algorithm as:\n",
        "* It is an expensive task according to time and consuming resources\n",
        "*"
      ],
      "metadata": {
        "id": "c95Mqg8eJti1"
      }
    },
    {
      "cell_type": "markdown",
      "source": [
        "**Dictionary:**\n",
        "\n",
        "* Decision Boundary: The decision boundary is the hyperplane that separates different classes in a classification problem. It acts as a dividing line (in 2-dimensional space) or a dividing hyperplane (in higher-dimensional space) and helps classify new data points into their respective classes based on their features.\n",
        "\n",
        "* Margin: The margin is the distance between the decision boundary and the closest support vector from each class. A larger margin indicates a more confident separation between classes. A wide margin generally means that the model is less prone to making classification errors on new, unseen data.\n",
        "\n",
        "* Support Vectors: Support vectors are the data points from each class that are closest to the decision boundary. These points play a crucial role in defining the decision boundary and determining the model's behavior. They \"support\" the decision boundary by influencing its position and orientation, hence the name \"support vectors.\""
      ],
      "metadata": {
        "id": "92GMJvCcF-Q5"
      }
    },
    {
      "cell_type": "markdown",
      "source": [
        "## **Example**"
      ],
      "metadata": {
        "id": "W4aCXQ2aKM8C"
      }
    },
    {
      "cell_type": "markdown",
      "source": [
        "We are going to train a model using random values generated as in the K-Means notebook, so consider:"
      ],
      "metadata": {
        "id": "NxBLj2_VKUMa"
      }
    },
    {
      "cell_type": "code",
      "execution_count": null,
      "metadata": {
        "id": "vXOpZY5NBfbZ"
      },
      "outputs": [],
      "source": []
    }
  ]
}